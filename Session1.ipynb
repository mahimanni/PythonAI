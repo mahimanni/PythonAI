{
 "cells": [
  {
   "cell_type": "code",
   "execution_count": 1,
   "id": "5f0e855b-8974-4bcd-850c-d7187bb05e93",
   "metadata": {},
   "outputs": [
    {
     "name": "stdout",
     "output_type": "stream",
     "text": [
      "hello\n"
     ]
    }
   ],
   "source": [
    "print('hello')"
   ]
  },
  {
   "cell_type": "code",
   "execution_count": 2,
   "id": "f60b0d86-399e-4e84-aa6e-1c8f02e1393e",
   "metadata": {},
   "outputs": [
    {
     "name": "stdout",
     "output_type": "stream",
     "text": [
      "8\n"
     ]
    }
   ],
   "source": [
    "#datatypes\n",
    "print(8)"
   ]
  },
  {
   "cell_type": "code",
   "execution_count": 3,
   "id": "f38786d6-45a0-468e-82c1-1ee04afbe118",
   "metadata": {},
   "outputs": [
    {
     "name": "stdout",
     "output_type": "stream",
     "text": [
      "inf\n"
     ]
    }
   ],
   "source": [
    "print(1e309)"
   ]
  },
  {
   "cell_type": "code",
   "execution_count": 4,
   "id": "8a456406-96a3-45e4-a625-0025e74642ee",
   "metadata": {},
   "outputs": [
    {
     "name": "stdout",
     "output_type": "stream",
     "text": [
      "1e+308\n"
     ]
    }
   ],
   "source": [
    "print(1e308)\n"
   ]
  },
  {
   "cell_type": "code",
   "execution_count": 5,
   "id": "0db1a3b3-ed23-437f-bb7b-88aad23ce46d",
   "metadata": {},
   "outputs": [
    {
     "name": "stdout",
     "output_type": "stream",
     "text": [
      "8.55\n",
      "inf\n"
     ]
    }
   ],
   "source": [
    "print(8.55)\n",
    "print(1.7e309)"
   ]
  },
  {
   "cell_type": "code",
   "execution_count": 6,
   "id": "9aac984d-5291-42d9-bc96-7dde16eb20f7",
   "metadata": {},
   "outputs": [
    {
     "name": "stdout",
     "output_type": "stream",
     "text": [
      "1.7e+308\n"
     ]
    }
   ],
   "source": [
    "print(1.7e308)"
   ]
  },
  {
   "cell_type": "code",
   "execution_count": 7,
   "id": "f551120d-1ae4-4ff8-b30c-edf900597b20",
   "metadata": {},
   "outputs": [
    {
     "name": "stdout",
     "output_type": "stream",
     "text": [
      "True\n"
     ]
    }
   ],
   "source": [
    "print(True)"
   ]
  },
  {
   "cell_type": "code",
   "execution_count": 9,
   "id": "6f6ccb0f-c438-4195-9bf3-5122d11dc855",
   "metadata": {},
   "outputs": [
    {
     "name": "stdout",
     "output_type": "stream",
     "text": [
      "hello world\n"
     ]
    }
   ],
   "source": [
    "print('hello world')"
   ]
  },
  {
   "cell_type": "code",
   "execution_count": 2,
   "id": "988c5481-1e2b-4bad-a5fd-7c2b0ba3b44e",
   "metadata": {},
   "outputs": [
    {
     "name": "stdout",
     "output_type": "stream",
     "text": [
      "[1, 2, 3, 4, 5]\n",
      "(1, 2, 3, 4, 5)\n",
      "{1, 2, 3, 4, 5}\n",
      "{'mahi': 12, 'manya': 11}\n"
     ]
    }
   ],
   "source": [
    "#list\n",
    "print([1,2,3,4,5])\n",
    "\n",
    "#Tuple\n",
    "print((1,2,3,4,5))\n",
    "\n",
    "#sets\n",
    "print({1,2,3,4,5})\n",
    "print({\"mahi\": 12 , \"manya\" : 11})"
   ]
  },
  {
   "cell_type": "code",
   "execution_count": 4,
   "id": "eb752959-56c1-4503-b0d4-a107284d6fed",
   "metadata": {},
   "outputs": [
    {
     "data": {
      "text/plain": [
       "int"
      ]
     },
     "execution_count": 4,
     "metadata": {},
     "output_type": "execute_result"
    }
   ],
   "source": [
    "#type\n",
    "type(2)"
   ]
  },
  {
   "cell_type": "code",
   "execution_count": 5,
   "id": "ef4f44ce-cae0-479e-9002-b4b32ceb0818",
   "metadata": {},
   "outputs": [
    {
     "data": {
      "text/plain": [
       "complex"
      ]
     },
     "execution_count": 5,
     "metadata": {},
     "output_type": "execute_result"
    }
   ],
   "source": [
    "type(6+5j)"
   ]
  },
  {
   "cell_type": "code",
   "execution_count": 6,
   "id": "0a63cdfc-66dc-4fe8-be6e-0801a8cf65dd",
   "metadata": {},
   "outputs": [
    {
     "data": {
      "text/plain": [
       "float"
      ]
     },
     "execution_count": 6,
     "metadata": {},
     "output_type": "execute_result"
    }
   ],
   "source": [
    "type(2.5)"
   ]
  },
  {
   "cell_type": "code",
   "execution_count": 7,
   "id": "91d3186a-cdde-4aaa-9852-ba9d3fc76169",
   "metadata": {},
   "outputs": [
    {
     "data": {
      "text/plain": [
       "list"
      ]
     },
     "execution_count": 7,
     "metadata": {},
     "output_type": "execute_result"
    }
   ],
   "source": [
    "type([1,2,3])"
   ]
  },
  {
   "cell_type": "code",
   "execution_count": 8,
   "id": "d4434bc2-e90c-4ded-ba29-362b08018c52",
   "metadata": {},
   "outputs": [
    {
     "data": {
      "text/plain": [
       "tuple"
      ]
     },
     "execution_count": 8,
     "metadata": {},
     "output_type": "execute_result"
    }
   ],
   "source": [
    "type((1,2,3,4,5))"
   ]
  },
  {
   "cell_type": "code",
   "execution_count": 9,
   "id": "b2abc2f7-7faf-4d3c-a0e2-e7298377cd9d",
   "metadata": {},
   "outputs": [
    {
     "data": {
      "text/plain": [
       "set"
      ]
     },
     "execution_count": 9,
     "metadata": {},
     "output_type": "execute_result"
    }
   ],
   "source": [
    "type({1,2,3,4,5})"
   ]
  },
  {
   "cell_type": "code",
   "execution_count": 10,
   "id": "132d4e35-dfd5-48e8-8ea3-36d95575b6d5",
   "metadata": {},
   "outputs": [
    {
     "name": "stdout",
     "output_type": "stream",
     "text": [
      "5\n",
      "Mahi\n"
     ]
    }
   ],
   "source": [
    "#variables: Container which stores values and is dynamic\n",
    "a=5\n",
    "print(a)\n",
    "a=\"Mahi\"\n",
    "print(a)"
   ]
  },
  {
   "cell_type": "code",
   "execution_count": 15,
   "id": "d6707227-37d2-41b9-baaf-54d627b0e45d",
   "metadata": {},
   "outputs": [
    {
     "name": "stdout",
     "output_type": "stream",
     "text": [
      "1 2.5 3\n"
     ]
    }
   ],
   "source": [
    "a,b,c = 1,2.5,3\n",
    "print(a,b,c)"
   ]
  },
  {
   "cell_type": "code",
   "execution_count": 16,
   "id": "5e0dcdc1-201a-4755-9243-c890dda19db9",
   "metadata": {},
   "outputs": [
    {
     "name": "stdout",
     "output_type": "stream",
     "text": [
      "5\n"
     ]
    }
   ],
   "source": [
    "#Keywords and Identifiers\n",
    "#Reserved word are known as Keywords\n",
    "_=5\n",
    "print(_)"
   ]
  },
  {
   "cell_type": "code",
   "execution_count": 17,
   "id": "dca67ab2-8203-47bc-ac65-28aa59b498ad",
   "metadata": {},
   "outputs": [
    {
     "name": "stdin",
     "output_type": "stream",
     "text": [
      "Enter a number:  5\n",
      "Enter a number:  6\n"
     ]
    },
    {
     "name": "stdout",
     "output_type": "stream",
     "text": [
      "11\n"
     ]
    }
   ],
   "source": [
    "#user input\n",
    "a=int(input(\"Enter a number: \"))\n",
    "b=int(input(\"Enter a number: \"))\n",
    "c=a+b\n",
    "print(c)"
   ]
  },
  {
   "cell_type": "code",
   "execution_count": 12,
   "id": "373249dd-2377-4b5d-816b-ad5b8d71dc06",
   "metadata": {},
   "outputs": [
    {
     "name": "stdout",
     "output_type": "stream",
     "text": [
      "10.6\n",
      "5\n",
      "4.0\n",
      "10\n",
      "200\n",
      "3.0 4.0 (3+4j)\n",
      "5\n",
      "None\n"
     ]
    }
   ],
   "source": [
    "#Implicit\n",
    "print(5+5.6)\n",
    "\n",
    "#Explicit\n",
    "print(int(5.5))\n",
    "print(float(4))\n",
    "\n",
    "#Complex no cannot be converted into int\n",
    "#print(5+6j) Error\n",
    "\n",
    "#Literals\n",
    "a=0b1010\n",
    "print(a)\n",
    "print(0o310)\n",
    "\n",
    "float_1= 10.5\n",
    "float_2= 1.5e2\n",
    "float_3= 1.5e-3\n",
    "#e is Ten to the power of ----- \n",
    "x=3+4j\n",
    "print(x.real, x.imag, x)\n",
    "\n",
    "#Boolean\n",
    "a=True+4\n",
    "print(a)\n",
    "\n",
    "#None\n",
    "k= None\n",
    "print(k)"
   ]
  },
  {
   "cell_type": "raw",
   "id": "a00c0178-4609-4e57-9685-08d92a06128a",
   "metadata": {},
   "source": []
  }
 ],
 "metadata": {
  "kernelspec": {
   "display_name": "Python 3 (ipykernel)",
   "language": "python",
   "name": "python3"
  },
  "language_info": {
   "codemirror_mode": {
    "name": "ipython",
    "version": 3
   },
   "file_extension": ".py",
   "mimetype": "text/x-python",
   "name": "python",
   "nbconvert_exporter": "python",
   "pygments_lexer": "ipython3",
   "version": "3.12.5"
  }
 },
 "nbformat": 4,
 "nbformat_minor": 5
}
