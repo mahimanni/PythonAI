{
 "cells": [
  {
   "cell_type": "code",
   "execution_count": 3,
   "id": "68cf78c2-56f1-4d51-991e-a559d42a1962",
   "metadata": {},
   "outputs": [
    {
     "name": "stdout",
     "output_type": "stream",
     "text": [
      "11\n",
      "-1\n",
      "30\n",
      "1.3333333333333333\n",
      "1\n",
      "2\n",
      "16\n"
     ]
    }
   ],
   "source": [
    "#Arithmetic Operators\n",
    "print(5+6)\n",
    "print(5-6)\n",
    "print(5*6)\n",
    "print(8/6)\n",
    "print(8//6)#integer division\n",
    "print(8%6)\n",
    "print(2**4)"
   ]
  },
  {
   "cell_type": "code",
   "execution_count": 34,
   "id": "c43525c2-d46b-479c-b728-474c0110d698",
   "metadata": {},
   "outputs": [
    {
     "name": "stdout",
     "output_type": "stream",
     "text": [
      "False\n",
      "True\n",
      "True\n",
      "True\n",
      "True\n",
      "True\n",
      "6 is greater\n"
     ]
    }
   ],
   "source": [
    "#Conditional Operator\n",
    "print(4>6)\n",
    "print(4<6)\n",
    "print(4==4)\n",
    "print(4!=6)\n",
    "print(4<=6)\n",
    "print(7>=5)\n",
    "#if statement\n",
    "if(5>6):\n",
    "    print(\"5 is greater\");\n",
    "else:\n",
    "    print(\"6 is greater\");\n"
   ]
  },
  {
   "cell_type": "code",
   "execution_count": 11,
   "id": "e26a2095-6aa2-4e55-ac3f-44f91961ca56",
   "metadata": {},
   "outputs": [
    {
     "name": "stdout",
     "output_type": "stream",
     "text": [
      "0\n",
      "1\n",
      "False\n"
     ]
    }
   ],
   "source": [
    "#Logical Operators\n",
    "print( 1 and 0)#print(1&0)\n",
    "print( 1 or 0)#print(1|0)\n",
    "print(not 1)"
   ]
  },
  {
   "cell_type": "code",
   "execution_count": 26,
   "id": "e8b13726-1191-4b31-8e93-274d0e887f33",
   "metadata": {},
   "outputs": [
    {
     "name": "stdout",
     "output_type": "stream",
     "text": [
      "20\n",
      "1\n",
      "-2\n"
     ]
    }
   ],
   "source": [
    "#Bitwise Operator\n",
    "print(5<<2)\n",
    "print(5>>2)\n",
    "print(~1)"
   ]
  },
  {
   "cell_type": "code",
   "execution_count": 14,
   "id": "7e97f6d9-98b0-43c4-bb80-26ea279b55a4",
   "metadata": {},
   "outputs": [
    {
     "name": "stdout",
     "output_type": "stream",
     "text": [
      "4\n"
     ]
    }
   ],
   "source": [
    "#Assignment Operator\n",
    "a=2\n",
    "a+=2\n",
    "print(a)"
   ]
  },
  {
   "cell_type": "code",
   "execution_count": 20,
   "id": "64728dfe-3af3-4580-9669-e0701b68a2de",
   "metadata": {},
   "outputs": [
    {
     "name": "stdout",
     "output_type": "stream",
     "text": [
      "True\n",
      "False\n"
     ]
    }
   ],
   "source": [
    "#Membership Operators\n",
    "print('d' in \"delhi\")\n",
    "print(7 in (2,3,4))"
   ]
  },
  {
   "cell_type": "code",
   "execution_count": 25,
   "id": "eebd8b43-2f5d-47c2-8949-fef3b3cbcaca",
   "metadata": {},
   "outputs": [
    {
     "name": "stdin",
     "output_type": "stream",
     "text": [
      "Enter 3 digit number: 1213\n"
     ]
    },
    {
     "name": "stdout",
     "output_type": "stream",
     "text": [
      "1213\n",
      "Sum of digits of the number is: 7\n"
     ]
    }
   ],
   "source": [
    "#Programs to use Operators\n",
    "num= (int)(input(\"Enter 3 digit number:\"))\n",
    "print(num)\n",
    "s=0\n",
    "while(num>0):\n",
    "    a=num%10\n",
    "    s=s+a\n",
    "    num=num//10 #for integer division\n",
    "print(\"Sum of digits of the number is:\",s);"
   ]
  },
  {
   "cell_type": "code",
   "execution_count": 32,
   "id": "6df1f6ad-ba0e-44b5-84d1-5b5751e05e69",
   "metadata": {},
   "outputs": [
    {
     "name": "stdin",
     "output_type": "stream",
     "text": [
      "Enter User Id xyz@gmail.com\n",
      "Enter Password 123\n"
     ]
    },
    {
     "name": "stdout",
     "output_type": "stream",
     "text": [
      "Incorrect password given\n",
      "Enter password again\n"
     ]
    },
    {
     "name": "stdin",
     "output_type": "stream",
     "text": [
      "Enter password 1234\n"
     ]
    },
    {
     "name": "stdout",
     "output_type": "stream",
     "text": [
      "Finally welcome\n"
     ]
    }
   ],
   "source": [
    "#elif\n",
    "userid= input(\"Enter User Id\")\n",
    "pwd= input(\"Enter Password\")\n",
    "if(userid==\"xyz@gmail.com\" and pwd==\"1234\"):\n",
    "    print(\"Welcome to home\")\n",
    "elif(userid==\"xyz@gmail.com\"):\n",
    "    print(\"Incorrect password given\\nEnter password again\")\n",
    "    pwd= input(\"Enter password\")\n",
    "    if(pwd==\"1234\"):\n",
    "        print(\"Finally welcome\")\n",
    "    else:\n",
    "        print(\"Sorry again incorrect password given\")    \n",
    "else:\n",
    "    print(\"Incorrect info given\")"
   ]
  },
  {
   "cell_type": "code",
   "execution_count": 37,
   "id": "ae2b8378-e81e-4e63-957b-430fb933d3c9",
   "metadata": {},
   "outputs": [
    {
     "name": "stdin",
     "output_type": "stream",
     "text": [
      "Enter 1 number: 1\n",
      "Enter 2 number: 2\n",
      "Enter 3 number: 4\n"
     ]
    },
    {
     "name": "stdout",
     "output_type": "stream",
     "text": [
      "4  is greater\n"
     ]
    }
   ],
   "source": [
    "#Take 3 values and find the bigger\n",
    "a= (int)(input(\"Enter 1 number:\"))\n",
    "b= (int)(input(\"Enter 2 number:\"))\n",
    "c= (int)(input(\"Enter 3 number:\"))\n",
    "if(a>b and a>c):\n",
    "    print(a,\" is greater\")\n",
    "elif(b>a and b>c):\n",
    "    print(b,\" is greater\")\n",
    "else:\n",
    "    print(c,\" is greater\")"
   ]
  },
  {
   "cell_type": "code",
   "execution_count": 39,
   "id": "cb2990e7-77cd-469e-a47d-baeddc033e6e",
   "metadata": {},
   "outputs": [
    {
     "name": "stdin",
     "output_type": "stream",
     "text": [
      "Enter 1 number: 12\n",
      "Enter 2 number: 3\n",
      "Enter the operator: //\n"
     ]
    },
    {
     "name": "stdout",
     "output_type": "stream",
     "text": [
      "4\n"
     ]
    }
   ],
   "source": [
    "#Menu Driven Calculator\n",
    "a= (int)(input(\"Enter 1 number:\"))\n",
    "b= (int)(input(\"Enter 2 number:\"))\n",
    "op= input(\"Enter the operator:\")\n",
    "\n",
    "if(op=='+'):\n",
    "    print(a+b)\n",
    "elif(op=='-'):\n",
    "    print(a-b)\n",
    "elif(op=='*'):\n",
    "    print(a*b)\n",
    "elif(op=='/'):\n",
    "    print(a/b)\n",
    "elif(op=='%'):\n",
    "    print(a%b)\n",
    "elif(op=='//'):\n",
    "    print(a//b)\n",
    "else:\n",
    "    print(\"No such operator available\")"
   ]
  },
  {
   "cell_type": "code",
   "execution_count": 42,
   "id": "1eb2caac-3318-421c-887a-81207f6eb739",
   "metadata": {},
   "outputs": [
    {
     "name": "stdout",
     "output_type": "stream",
     "text": [
      "Hello\n",
      "World\n",
      "Have a great day:)\n"
     ]
    }
   ],
   "source": [
    "#Use '''\n",
    "print('''Hello\n",
    "World\n",
    "Have a great day:)''')"
   ]
  },
  {
   "cell_type": "code",
   "execution_count": 62,
   "id": "3849c4e1-b650-4669-9335-f63676a74130",
   "metadata": {},
   "outputs": [
    {
     "name": "stdout",
     "output_type": "stream",
     "text": [
      "Hello how can I help you\n",
      "Enter 1 to change pin\n",
      "Enter 2 to check balance\n",
      "Enter 3 to withdraw\n",
      "Enter 4 to exit\n"
     ]
    },
    {
     "name": "stdin",
     "output_type": "stream",
     "text": [
      "Enter choice: 1\n"
     ]
    },
    {
     "ename": "SyntaxError",
     "evalue": "'return' outside function (2966474354.py, line 10)",
     "output_type": "error",
     "traceback": [
      "\u001b[1;36m  Cell \u001b[1;32mIn[62], line 10\u001b[1;36m\u001b[0m\n\u001b[1;33m    return(\"Changing pin\")\u001b[0m\n\u001b[1;37m    ^\u001b[0m\n\u001b[1;31mSyntaxError\u001b[0m\u001b[1;31m:\u001b[0m 'return' outside function\n"
     ]
    }
   ],
   "source": [
    "print('''Hello how can I help you\n",
    "Enter 1 to change pin\n",
    "Enter 2 to check balance\n",
    "Enter 3 to withdraw\n",
    "Enter 4 to exit''')\n",
    "choice= input(\"Enter choice:\")\n",
    "\n",
    "match(choice):\n",
    "    case 1:\n",
    "        return(\"Changing pin\")\n",
    "        #break\n",
    "    case 2:\n",
    "        print(\"Check balance\")\n",
    "        # break\n",
    "    case 3:\n",
    "        print(\"Withdraw\")\n",
    "        # break"
   ]
  },
  {
   "cell_type": "code",
   "execution_count": 60,
   "id": "3df31cdd-9f86-44c3-972b-53cca7cd9231",
   "metadata": {},
   "outputs": [
    {
     "name": "stdout",
     "output_type": "stream",
     "text": [
      "120\n",
      "True\n",
      "['False', 'None', 'True', 'and', 'as', 'assert', 'async', 'await', 'break', 'class', 'continue', 'def', 'del', 'elif', 'else', 'except', 'finally', 'for', 'from', 'global', 'if', 'import', 'in', 'is', 'lambda', 'nonlocal', 'not', 'or', 'pass', 'raise', 'return', 'try', 'while', 'with', 'yield']\n",
      "5\n",
      "2024-09-07 09:43:14.818133\n",
      "\n",
      "Please wait a moment while I gather a list of all available modules...\n",
      "\n",
      "IPython             builtins            mailcap             stringprep\n",
      "__future__          bz2                 markupsafe          struct\n",
      "_abc                cProfile            marshal             subprocess\n",
      "_aix_support        calendar            math                sunau\n",
      "_argon2_cffi_bindings certifi             matplotlib_inline   symtable\n",
      "_ast                cffi                mimetypes           sys\n",
      "_asyncio            cgi                 mistune             sysconfig\n",
      "_bisect             cgitb               mmap                tabnanny\n",
      "_blake2             charset_normalizer  mmapfile            tarfile\n",
      "_bootsubprocess     chunk               mmsystem            telnetlib\n",
      "_bz2                cmath               modulefinder        tempfile\n",
      "_cffi_backend       cmd                 msilib              terminado\n",
      "_codecs             code                msvcrt              test\n",
      "_codecs_cn          codecs              multiprocessing     textwrap\n",
      "_codecs_hk          codeop              nbclient            this\n",
      "_codecs_iso2022     collections         nbconvert           threading\n",
      "_codecs_jp          colorama            nbformat            time\n",
      "_codecs_kr          colorsys            nest_asyncio        timeit\n",
      "_codecs_tw          comm                netbios             timer\n",
      "_collections        commctrl            netrc               tinycss2\n",
      "_collections_abc    compileall          nntplib             tkinter\n",
      "_compat_pickle      concurrent          notebook            token\n",
      "_compression        configparser        notebook_shim       tokenize\n",
      "_contextvars        contextlib          nt                  tomli\n",
      "_csv                contextvars         ntpath              tornado\n",
      "_ctypes             copy                ntsecuritycon       trace\n",
      "_ctypes_test        copyreg             nturl2path          traceback\n",
      "_datetime           crypt               numbers             tracemalloc\n",
      "_decimal            csv                 odbc                traitlets\n",
      "_distutils_hack     ctypes              opcode              tty\n",
      "_elementtree        curses              operator            turtle\n",
      "_functools          dataclasses         optparse            turtledemo\n",
      "_hashlib            datetime            os                  types\n",
      "_heapq              dateutil            overrides           typing\n",
      "_imp                dbi                 packaging           typing_extensions\n",
      "_io                 dbm                 pandocfilters       unicodedata\n",
      "_json               dde                 parso               unittest\n",
      "_locale             debugpy             pathlib             uri_template\n",
      "_lsprof             decimal             pdb                 urllib\n",
      "_lzma               decorator           perfmon             urllib3\n",
      "_markupbase         defusedxml          pickle              uu\n",
      "_md5                difflib             pickletools         uuid\n",
      "_msi                dis                 pip                 venv\n",
      "_multibytecodec     distutils           pipes               warnings\n",
      "_multiprocessing    doctest             pkg_resources       wave\n",
      "_opcode             email               pkgutil             wcwidth\n",
      "_operator           encodings           platform            weakref\n",
      "_osx_support        ensurepip           platformdirs        webbrowser\n",
      "_overlapped         enum                plistlib            webcolors\n",
      "_pickle             errno               poplib              webencodings\n",
      "_py_abc             exceptiongroup      posixpath           websocket\n",
      "_pydecimal          executing           pprint              widgetsnbextension\n",
      "_pyio               fastjsonschema      profile             win2kras\n",
      "_queue              faulthandler        prometheus_client   win32api\n",
      "_random             filecmp             prompt_toolkit      win32clipboard\n",
      "_sha1               fileinput           pstats              win32com\n",
      "_sha256             fnmatch             psutil              win32con\n",
      "_sha3               fqdn                pty                 win32console\n",
      "_sha512             fractions           pure_eval           win32cred\n",
      "_signal             ftplib              py_compile          win32crypt\n",
      "_sitebuiltins       functools           pyclbr              win32cryptcon\n",
      "_socket             gc                  pycparser           win32event\n",
      "_sqlite3            genericpath         pydoc               win32evtlog\n",
      "_sre                getopt              pydoc_data          win32evtlogutil\n",
      "_ssl                getpass             pyexpat             win32file\n",
      "_stat               gettext             pygments            win32gui\n",
      "_statistics         gh                  pythoncom           win32gui_struct\n",
      "_string             glob                pythonjsonlogger    win32help\n",
      "_strptime           graphlib            pywin               win32inet\n",
      "_struct             gzip                pywin32_bootstrap   win32inetcon\n",
      "_symtable           h11                 pywin32_testutil    win32job\n",
      "_testbuffer         hashlib             pywintypes          win32lz\n",
      "_testcapi           heapq               queue               win32net\n",
      "_testconsole        hmac                quopri              win32netcon\n",
      "_testimportmultiple html                random              win32pdh\n",
      "_testinternalcapi   http                rasutil             win32pdhquery\n",
      "_testmultiphase     httpcore            re                  win32pdhutil\n",
      "_thread             httpx               referencing         win32pipe\n",
      "_threading_local    idlelib             regcheck            win32print\n",
      "_tkinter            idna                regutil             win32process\n",
      "_tracemalloc        imaplib             reprlib             win32profile\n",
      "_uuid               imghdr              requests            win32ras\n",
      "_warnings           imp                 rfc3339_validator   win32rcparser\n",
      "_weakref            importlib           rfc3986_validator   win32security\n",
      "_weakrefset         inspect             rlcompleter         win32service\n",
      "_win32sysloader     io                  rpds                win32serviceutil\n",
      "_winapi             ipaddress           runpy               win32timezone\n",
      "_winxptheme         ipykernel           sched               win32trace\n",
      "_xxsubinterpreters  ipykernel_launcher  secrets             win32traceutil\n",
      "_yaml               ipywidgets          select              win32transaction\n",
      "_zoneinfo           isapi               selectors           win32ts\n",
      "abc                 isoduration         send2trash          win32ui\n",
      "adodbapi            itertools           servicemanager      win32uiole\n",
      "afxres              jedi                setuptools          win32verstamp\n",
      "aifc                jinja2              shelve              win32wnet\n",
      "antigravity         json                shlex               winerror\n",
      "anyio               json5               shutil              winioctlcon\n",
      "argon2              jsonpointer         signal              winnt\n",
      "argparse            jsonschema          site                winperf\n",
      "array               jsonschema_specifications six                 winpty\n",
      "arrow               jupyter             smtpd               winreg\n",
      "ast                 jupyter_client      smtplib             winsound\n",
      "asttokens           jupyter_console     sndhdr              winxpgui\n",
      "async_lru           jupyter_core        sniffio             winxptheme\n",
      "asynchat            jupyter_events      socket              wsgiref\n",
      "asyncio             jupyter_lsp         socketserver        xdrlib\n",
      "asyncore            jupyter_server      soupsieve           xml\n",
      "atexit              jupyter_server_terminals sqlite3             xmlrpc\n",
      "attr                jupyterlab          sre_compile         xxsubtype\n",
      "attrs               jupyterlab_pygments sre_constants       yaml\n",
      "audioop             jupyterlab_server   sre_parse           zipapp\n",
      "babel               jupyterlab_widgets  ssl                 zipfile\n",
      "base64              keyword             sspi                zipimport\n",
      "bdb                 lib2to3             sspicon             zlib\n",
      "binascii            linecache           stack_data          zmq\n",
      "binhex              locale              start_pythonwin     zoneinfo\n",
      "bisect              logging             stat                \n",
      "bleach              lzma                statistics          \n",
      "bs4                 mailbox             string              \n",
      "\n",
      "Enter any module name to get more help.  Or, type \"modules spam\" to search\n",
      "for modules whose name or summary contain the string \"spam\".\n",
      "\n",
      "None\n"
     ]
    }
   ],
   "source": [
    "#Module in Python\n",
    "#within class- method\n",
    "#else function\n",
    "import math\n",
    "import keyword\n",
    "import random\n",
    "import datetime\n",
    "\n",
    "print(math.factorial(5))\n",
    "print(keyword.iskeyword(\"break\"))\n",
    "print(keyword.kwlist)\n",
    "print(random.randint(1,5))\n",
    "print(datetime.datetime.now())\n",
    "print(help('modules'))"
   ]
  },
  {
   "cell_type": "code",
   "execution_count": null,
   "id": "ecfe7ffe-586d-428b-95f5-c3f08497bef0",
   "metadata": {},
   "outputs": [],
   "source": [
    "#Loops in python\n",
    "n=(int)(input(\"Enter the number:\"))\n",
    "i=1\n",
    "while(i<11):\n",
    "    print(n*i)\n",
    "    i+=1"
   ]
  },
  {
   "cell_type": "code",
   "execution_count": null,
   "id": "d5594868-3949-43aa-88c0-f7616013fc21",
   "metadata": {},
   "outputs": [],
   "source": [
    "#Guessing game\n",
    "import random\n",
    "randomno= random.randint(1,100)\n",
    "print(randomno)\n",
    "count=1\n",
    "flag=0\n",
    "guess= (int)(input(\"Enter the number between 1 to 100:\"))\n",
    "\n",
    "while(flag==0):   \n",
    "    if(guess==randomno):\n",
    "        flag=1\n",
    "        print(\"You guessed the no in chances=\",count)\n",
    "        break\n",
    "    elif(guess>randomno):\n",
    "        print(guess,\"is larger\")\n",
    "        count+=1\n",
    "    else:\n",
    "        print(guess,\"is smaller\")\n",
    "        count+=1\n",
    "    guess= (int)(input(\"Enter the number between 1 to 100:\"))"
   ]
  },
  {
   "cell_type": "code",
   "execution_count": null,
   "id": "3ce492fa-208b-481e-be6e-ee1e4bf9c9c3",
   "metadata": {},
   "outputs": [],
   "source": []
  }
 ],
 "metadata": {
  "kernelspec": {
   "display_name": "Python 3 (ipykernel)",
   "language": "python",
   "name": "python3"
  },
  "language_info": {
   "codemirror_mode": {
    "name": "ipython",
    "version": 3
   },
   "file_extension": ".py",
   "mimetype": "text/x-python",
   "name": "python",
   "nbconvert_exporter": "python",
   "pygments_lexer": "ipython3",
   "version": "3.10.2"
  }
 },
 "nbformat": 4,
 "nbformat_minor": 5
}
